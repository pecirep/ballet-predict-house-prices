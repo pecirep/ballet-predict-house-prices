{
 "cells": [
  {
   "cell_type": "markdown",
   "metadata": {},
   "source": [
    "# ballet-predict-house-prices demo"
   ]
  },
  {
   "cell_type": "markdown",
   "metadata": {},
   "source": [
    "If you are on this page, you are probably thinking about contributing to a Ballet feature engineering collaboration. Welcome!"
   ]
  },
  {
   "cell_type": "markdown",
   "metadata": {},
   "source": [
    "In this demo, you will...\n",
    "1. [Explore the data](#Explore-the-data) that we are using for predicting house prices.\n",
    "2. [Explore existing features](#Explore-existing-features) that other collaborators have already written and contributed to the project.\n",
    "3. [Write your own feature](#Write-a-new-feature)! (or copy a pre-existing example)\n",
    "4. [Validate your feature](#Test-your-feature) in the notebook, fixing any issues with it.\n",
    "5. [Submit your feature](#Submit-your-feature) from within the notebook, under the hood creating a pull request to the upstream GitHub repo.\n",
    "6. [Provide feedback](#Thanks-for-contributing!) on your experience :)"
   ]
  },
  {
   "cell_type": "markdown",
   "metadata": {},
   "source": [
    "The steps you follow in this demo are taken from the [Ballet Contributor Guide](https://ballet.github.io/ballet/contributor_guide.html), make sure to consult it for more information."
   ]
  },
  {
   "cell_type": "code",
   "execution_count": null,
   "metadata": {},
   "outputs": [],
   "source": [
    "# some preliminaries...\n",
    "import logging\n",
    "from ballet.util.log import enable as enable_logger\n",
    "enable_logger('ballet_predict_house_prices')\n",
    "enable_logger('ballet')\n",
    "import pandas as pd\n",
    "pd.set_option('display.max_columns', None)\n",
    "import matplotlib.pyplot as plt\n",
    "import seaborn as sns\n",
    "sns.set()"
   ]
  },
  {
   "cell_type": "code",
   "execution_count": null,
   "metadata": {},
   "outputs": [],
   "source": [
    "from ballet import b"
   ]
  },
  {
   "cell_type": "markdown",
   "metadata": {},
   "source": [
    "## Explore the data"
   ]
  },
  {
   "cell_type": "markdown",
   "metadata": {},
   "source": [
    "Access the development data through the `load_data` function. The resulting variables are pandas DataFrames. The convention used throughout ballet (and this notebook) will be that `X_df` and `y_df` are the raw data frames, `X` is the extracted feature matrix after applying the feature engineering pipeline, and `y` is the prediction target after applying any encoding.\n",
    "\n",
    "There is also a [detailed data dictionary](https://s3.amazonaws.com/mit-dai-ballet/ames/DataDocumentation.txt) that you might like to consult. Note that column names in `X_df` contain spaces!"
   ]
  },
  {
   "cell_type": "code",
   "execution_count": null,
   "metadata": {},
   "outputs": [],
   "source": [
    "X_df, y_df = b.api.load_data()"
   ]
  },
  {
   "cell_type": "code",
   "execution_count": null,
   "metadata": {},
   "outputs": [],
   "source": [
    "X_df.head()"
   ]
  },
  {
   "cell_type": "code",
   "execution_count": null,
   "metadata": {},
   "outputs": [],
   "source": [
    "y_df.head()"
   ]
  },
  {
   "cell_type": "markdown",
   "metadata": {},
   "source": [
    "## Explore existing features"
   ]
  },
  {
   "cell_type": "code",
   "execution_count": null,
   "metadata": {},
   "outputs": [],
   "source": [
    "result = b.api.engineer_features(X_df, y_df)\n",
    "X_train, y_train = result.X, result.y"
   ]
  },
  {
   "cell_type": "code",
   "execution_count": null,
   "metadata": {},
   "outputs": [],
   "source": [
    "print('Number of existing features: ', len(result.features))\n",
    "print('Number of columns in feature matrix: ', X_train.shape[1])"
   ]
  },
  {
   "cell_type": "markdown",
   "metadata": {},
   "source": [
    "Every feature that has been written by other collaborators is stored as a module directly within the `ballet_predict_house_prices` package! You can find existing features within `ballet_predict_house_prices.features.contrib` organized by the user who wrote the feature. You can directly import the feature that they wrote. For example, here is a feature contributed by user `micahjsmith`:"
   ]
  },
  {
   "cell_type": "code",
   "execution_count": null,
   "metadata": {},
   "outputs": [],
   "source": [
    "from ballet_predict_house_prices.features.contrib\\\n",
    "     .user_micahjsmith.feature_calculate_adjusted_quality import feature as other_feature\n",
    "other_feature"
   ]
  },
  {
   "cell_type": "markdown",
   "metadata": {},
   "source": [
    "By looking at the output of this feature, we can see that it takes as input two columns of `X_df`: \"Overall Qual\" and \"Overal Cond\". It then applies some function (wrapped in a transformer), returning feature values called \"Adjusted Overall Quality\". To see more about how the feature was defined, you could browse to the Python file defining the feature in your editor (within the `src/` directory) and take a look!"
   ]
  },
  {
   "cell_type": "markdown",
   "metadata": {},
   "source": [
    "## Write a new feature"
   ]
  },
  {
   "cell_type": "markdown",
   "metadata": {},
   "source": [
    "Now it's time to write your own feature!"
   ]
  },
  {
   "cell_type": "markdown",
   "metadata": {},
   "source": [
    "If you have questions about feature engineering, see the [Feature Engineering Guide](https://ballet.github.io/ballet/feature_engineering_guide.html)."
   ]
  },
  {
   "cell_type": "markdown",
   "metadata": {},
   "source": [
    " Or, if you'd like to experience the process of submitting your feature directly, you can see pre-existing examples in `/examples`. You should be able to copy and paste these into the code cell below."
   ]
  },
  {
   "cell_type": "code",
   "execution_count": null,
   "metadata": {},
   "outputs": [],
   "source": [
    "from ballet import Feature\n",
    "\n",
    "input = None  # TODO - str or list of str\n",
    "transformer = None  # TODO - function, transformer-like, or list thereof\n",
    "name = None  # TODO - str\n",
    "feature = Feature(input, transformer, name)"
   ]
  },
  {
   "cell_type": "markdown",
   "metadata": {},
   "source": [
    "Let's play around with the feature we have created... what values does it extract?"
   ]
  },
  {
   "cell_type": "code",
   "execution_count": null,
   "metadata": {},
   "outputs": [],
   "source": [
    "feature_values = feature.as_feature_engineering_pipeline().fit_transform(X_df, y_df)\n",
    "feature_values"
   ]
  },
  {
   "cell_type": "markdown",
   "metadata": {},
   "source": [
    "What is the relationship between our feature values and the target?"
   ]
  },
  {
   "cell_type": "code",
   "execution_count": null,
   "metadata": {},
   "outputs": [],
   "source": [
    "sns.scatterplot(x=feature_values.ravel(), y=y_df)"
   ]
  },
  {
   "cell_type": "markdown",
   "metadata": {},
   "source": [
    "### Test your feature"
   ]
  },
  {
   "cell_type": "markdown",
   "metadata": {},
   "source": [
    "You probably want to make sure that your feature does not have bugs before you submit it to the upstream project."
   ]
  },
  {
   "cell_type": "markdown",
   "metadata": {},
   "source": [
    "This first command will check that your feature conforms to the feature API. (Assumes you have assigned your feature to a variable `feature`.) Even if your feature passes the tests here in the notebook, it may still fail to be validated, especially if you have not included all your imports/helpers in the code cell that you submit."
   ]
  },
  {
   "cell_type": "code",
   "execution_count": null,
   "metadata": {},
   "outputs": [],
   "source": [
    "b.validate_feature_api(feature)"
   ]
  },
  {
   "cell_type": "markdown",
   "metadata": {},
   "source": [
    "This second command will evaluate the ML performance of your feature. (Assumes you have assigned your feature to a variable `feature`.) Usually, this consists of computing the mutual information of your feature values with the target, conditional on the feature values extracted by the existing feature engineering pipeline. If this is above a certain threshold, your feature is determined to be contributing positively to the ML performance of the project. In this Demo, since we want to be nice to new collaborators, each and every feature will be accepted with respect to ML performance!  "
   ]
  },
  {
   "cell_type": "code",
   "execution_count": null,
   "metadata": {},
   "outputs": [],
   "source": [
    "b.validate_feature_acceptance(feature)"
   ]
  },
  {
   "cell_type": "markdown",
   "metadata": {},
   "source": [
    "### Submit your feature"
   ]
  },
  {
   "cell_type": "markdown",
   "metadata": {},
   "source": [
    "When you are ready to submit your feature, look for the \"<span class=\"fa fa-share\" style=\"color:#FCDD35;\"></span> Submit\" button in the right of your notebook toolbar. First, **select the code cell that contains the feature you have written** (you will have to scroll up to [here](#Write-a-new-feature)). Then press the submit button, confirming that the feature code shown is what you want to submit. After submission, you will be shown a URL that takes you to the corresponding Pull Request that has been created."
   ]
  },
  {
   "cell_type": "markdown",
   "metadata": {},
   "source": [
    "🚧 Be careful -- **the content of the cell must be a standalone Python module**, as it will be placed in an empty Python source file. This means that any imports or helper functions must be defined (or \n",
    "re-defined) within this cell, otherwise your submitted feature will fail to validate due to missing imports/helpers. 🚧 For example, if you use some functionality from `numpy`, then you must (re)import numpy within the code cell, even if you imported it elsewhere in the notebook."
   ]
  },
  {
   "cell_type": "markdown",
   "metadata": {},
   "source": [
    "When you submit your feature, the source code you have written is extracted from the selected code cell. It is then sent to a app which does the job of structuring your feature as a pull request to the `ballet/predict-house-prices` project, which it opens on your behalf. The pull request is validated by Travis CI, a continuous integration service, using the test suite defined by the ballet framework, testing the feature's API and running a streaming logical feature selection (SLFS) algorithm. If the feature is accepted, the GitHub app `ballet-bot` responds by automatically merging the pull request into the project. Otherwise, it automatically closes it. Similarly, after an accepted feature is merged, the CI service runs another ballet-defined script to prune redundant features using the same SLFS algorithm."
   ]
  },
  {
   "cell_type": "markdown",
   "metadata": {},
   "source": [
    "### Thanks for contributing!"
   ]
  },
  {
   "cell_type": "markdown",
   "metadata": {},
   "source": [
    "If you're reading this, you have already done some great data science work and contributed one (or more!) features to the upstream predict-house-prices project."
   ]
  },
  {
   "cell_type": "markdown",
   "metadata": {},
   "source": [
    "**Would you like to provide feedback on your experience?** Your feedback will be helpful to our research project of designing a better collaborative, open-source data science development experience."
   ]
  },
  {
   "cell_type": "markdown",
   "metadata": {},
   "source": [
    "<table align=\"left\">\n",
    "<thead>\n",
    "<tr>\n",
    "<th></th>\n",
    "<th></th>\n",
    "</tr>\n",
    "</thead>\n",
    "<tbody><tr>\n",
    "<td>Provide feedback right now?</td>\n",
    "<td><a href=\"https://forms.gle/9QPRxsikFdrppUaH8\" rel=\"noopener\" target=\"_blank\">Click here</a></td>\n",
    "</tr>\n",
    "<tr>\n",
    "<td>Provider feedback later?</td>\n",
    "<td><a href=\"https://forms.gle/vpFL2oU1G6T22BeM7\" rel=\"noopener\" target=\"_blank\">Submit your email address only</a></td>\n",
    "</tr>\n",
    "</tbody></table>"
   ]
  },
  {
   "cell_type": "markdown",
   "metadata": {},
   "source": [
    "That's it! You can close this notebook as the next contributor will launch a new Binder session."
   ]
  }
 ],
 "metadata": {
  "kernelspec": {
   "display_name": "Python 3",
   "language": "python",
   "name": "python3"
  },
  "language_info": {
   "codemirror_mode": {
    "name": "ipython",
    "version": 3
   },
   "file_extension": ".py",
   "mimetype": "text/x-python",
   "name": "python",
   "nbconvert_exporter": "python",
   "pygments_lexer": "ipython3",
   "version": "3.7.5"
  }
 },
 "nbformat": 4,
 "nbformat_minor": 4
}
